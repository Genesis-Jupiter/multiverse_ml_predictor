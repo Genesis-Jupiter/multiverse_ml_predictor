{
 "cells": [
  {
   "cell_type": "markdown",
   "id": "aa88ebf1",
   "metadata": {},
   "source": [
    "# 🧠 Multiverse Victory Predictor - Model Training\n",
    "This notebook trains both Logistic Regression and Random Forest models on a multiverse simulation dataset."
   ]
  },
  {
   "cell_type": "code",
   "execution_count": null,
   "id": "e6edfc63",
   "metadata": {},
   "outputs": [],
   "source": [
    "\n",
    "import numpy as np\n",
    "import pandas as pd\n",
    "import matplotlib.pyplot as plt\n",
    "\n",
    "from sklearn.pipeline import Pipeline\n",
    "from sklearn.impute import SimpleImputer\n",
    "from sklearn.preprocessing import StandardScaler, OneHotEncoder\n",
    "from sklearn.compose import ColumnTransformer\n",
    "from sklearn.linear_model import LogisticRegression\n",
    "from sklearn.ensemble import RandomForestClassifier\n",
    "from sklearn.model_selection import train_test_split\n",
    "from sklearn.metrics import classification_report\n",
    "import joblib\n"
   ]
  },
  {
   "cell_type": "code",
   "execution_count": null,
   "id": "39659b22",
   "metadata": {},
   "outputs": [],
   "source": [
    "\n",
    "df = pd.read_csv(\"simulated_multiverse_dataset.csv\")\n",
    "df.head()\n"
   ]
  },
  {
   "cell_type": "code",
   "execution_count": null,
   "id": "449eea67",
   "metadata": {},
   "outputs": [],
   "source": [
    "\n",
    "df[\"num_heroes\"] = pd.to_numeric(df[\"num_heroes\"], errors=\"coerce\")\n",
    "df[\"enemy_mind_state\"] = df[\"enemy_mind_state\"].replace('???', np.nan)\n"
   ]
  },
  {
   "cell_type": "code",
   "execution_count": null,
   "id": "7ae1e0af",
   "metadata": {},
   "outputs": [],
   "source": [
    "\n",
    "numerical_features = [\n",
    "    'team_strength', 'enemy_strength', 'num_heroes', 'num_enemies',\n",
    "    'team_coordination', 'intel_accuracy', 'previous_failures',\n",
    "    'diversion_success_rate', 'strategic_plan_complexity',\n",
    "    'universe_variability', 'enemy_stone_count'\n",
    "]\n",
    "\n",
    "categorical_features = [\n",
    "    'has_time_stone', 'has_surprise_element', 'terrain_advantage',\n",
    "    'enemy_mind_state', 'has_ironman', 'sacrifice_possible'\n",
    "]\n"
   ]
  },
  {
   "cell_type": "code",
   "execution_count": null,
   "id": "6803e7a1",
   "metadata": {},
   "outputs": [],
   "source": [
    "\n",
    "X = df.drop(columns=['outcome', 'simulation_number'])\n",
    "y = df['outcome']\n"
   ]
  },
  {
   "cell_type": "code",
   "execution_count": null,
   "id": "c5154384",
   "metadata": {},
   "outputs": [],
   "source": [
    "\n",
    "num_pipeline = Pipeline([\n",
    "    ('imputer', SimpleImputer(strategy='median')),\n",
    "    ('scaler', StandardScaler())\n",
    "])\n",
    "\n",
    "cat_pipeline = Pipeline([\n",
    "    ('imputer', SimpleImputer(strategy='most_frequent')),\n",
    "    ('encoder', OneHotEncoder(handle_unknown='ignore'))\n",
    "])\n",
    "\n",
    "preprocessor = ColumnTransformer([\n",
    "    ('num', num_pipeline, numerical_features),\n",
    "    ('cat', cat_pipeline, categorical_features)\n",
    "])\n"
   ]
  },
  {
   "cell_type": "code",
   "execution_count": null,
   "id": "b9437f08",
   "metadata": {},
   "outputs": [],
   "source": [
    "\n",
    "X_train, X_test, y_train, y_test = train_test_split(X, y, test_size=0.2, random_state=42)\n"
   ]
  },
  {
   "cell_type": "code",
   "execution_count": null,
   "id": "5c4ba32a",
   "metadata": {},
   "outputs": [],
   "source": [
    "\n",
    "log_pipeline = Pipeline([\n",
    "    ('preprocessor', preprocessor),\n",
    "    ('classifier', LogisticRegression(max_iter=1000))\n",
    "])\n",
    "\n",
    "log_pipeline.fit(X_train, y_train)\n",
    "y_pred_log = log_pipeline.predict(X_test)\n",
    "print(\"🔍 Logistic Regression Performance:\\n\")\n",
    "print(classification_report(y_test, y_pred_log))\n",
    "\n",
    "joblib.dump(log_pipeline, \"multiverse_logistic.pkl\")\n"
   ]
  },
  {
   "cell_type": "code",
   "execution_count": null,
   "id": "158152e2",
   "metadata": {},
   "outputs": [],
   "source": [
    "\n",
    "rf_pipeline = Pipeline([\n",
    "    ('preprocessor', preprocessor),\n",
    "    ('classifier', RandomForestClassifier(n_estimators=100, random_state=42))\n",
    "])\n",
    "\n",
    "rf_pipeline.fit(X_train, y_train)\n",
    "y_pred_rf = rf_pipeline.predict(X_test)\n",
    "print(\"🌲 Random Forest Performance:\\n\")\n",
    "print(classification_report(y_test, y_pred_rf))\n",
    "\n",
    "joblib.dump(rf_pipeline, \"multiverse_random_forest.pkl\")\n"
   ]
  }
 ],
 "metadata": {},
 "nbformat": 4,
 "nbformat_minor": 5
}
